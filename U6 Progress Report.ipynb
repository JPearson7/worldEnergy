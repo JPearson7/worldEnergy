{
 "cells": [
  {
   "cell_type": "markdown",
   "id": "b76eb34d-18ab-411a-9db6-27ae798a63b5",
   "metadata": {},
   "source": [
    "## Unit 5 Progress Report"
   ]
  },
  {
   "cell_type": "markdown",
   "id": "e71ed2ef-1a36-4f04-9dd7-36921fe30a54",
   "metadata": {},
   "source": [
    "**Group Members:**\n",
    "<br>Stephanie Kugle\n",
    "<br>Joshua Pearson"
   ]
  },
  {
   "cell_type": "markdown",
   "id": "417cda85-fd35-466a-b48e-452498e6d842",
   "metadata": {},
   "source": [
    "**Project Topic:**\n",
    "<br>A Cost Benefit Analysis of Renewable Energy"
   ]
  },
  {
   "cell_type": "markdown",
   "id": "6d8c29e6-a647-40dc-a2ad-591b27e5e7f9",
   "metadata": {},
   "source": [
    "As climate change becomes a hot topic issue, whether our planet will continue to support life, people are looking at what they can do to contribute to a better future for planet Earth.  We will analyze data to support converting energy from non-renewable sources to renewable and alternative sources of energy.  Our analysis will include insight into Coal and Oil energy sources, the viability of renewable sources such as Hydroelectic, Wind and Solar energies and long term impact (including costs, output, etc.) of renewable versus non-renewable energy sources."
   ]
  },
  {
   "cell_type": "markdown",
   "id": "3997b2f2-c5c1-4b6b-a122-19775991e9f9",
   "metadata": {},
   "source": [
    "## Oil and Coal"
   ]
  },
  {
   "cell_type": "markdown",
   "id": "605e1afd-6679-4792-98b6-4be9c111ead5",
   "metadata": {},
   "source": [
    "Oil and coal are energy sources with finite amounts available.  We will use datasets to show that with long term use they are responsible for emissions that lead to environmental damage.  Through examination of the data, we hope to support that the financial impact of converting from these sources to more sustainable, renewable sources is negligible when comparing the emissions outputs of these sources."
   ]
  },
  {
   "cell_type": "markdown",
   "id": "9195fdc2-9c5e-42e1-8de8-7ba8a56f4f23",
   "metadata": {},
   "source": [
    "We have some preliminary data regarding emissions from coal and oil power plants.  Combining this data with analysis we will show that long term use of oil and coal as an energy source is not viable for the planet."
   ]
  },
  {
   "cell_type": "code",
   "execution_count": 95,
   "id": "e012be92-e8c5-4307-be67-1ff4824a0239",
   "metadata": {},
   "outputs": [
    {
     "name": "stdout",
     "output_type": "stream",
     "text": [
      "       MSN  YYYYMM     Value  Column_Order  \\\n",
      "0  CLRCPUS  194913  52407.00             1   \n",
      "1  CLRCPUS  195013  51562.35             1   \n",
      "2  CLRCPUS  195113  47719.57             1   \n",
      "3  CLRCPUS  195213  44282.40             1   \n",
      "4  CLRCPUS  195313  39604.00             1   \n",
      "\n",
      "                               Description                 Unit  \n",
      "0  Coal Consumed by the Residential Sector  Thousand Short Tons  \n",
      "1  Coal Consumed by the Residential Sector  Thousand Short Tons  \n",
      "2  Coal Consumed by the Residential Sector  Thousand Short Tons  \n",
      "3  Coal Consumed by the Residential Sector  Thousand Short Tons  \n",
      "4  Coal Consumed by the Residential Sector  Thousand Short Tons  \n"
     ]
    },
    {
     "data": {
      "text/plain": [
       "Index(['MSN', 'YYYYMM', 'Value', 'Column_Order', 'Description', 'Unit'], dtype='object')"
      ]
     },
     "execution_count": 95,
     "metadata": {},
     "output_type": "execute_result"
    }
   ],
   "source": [
    "import pandas as pd\n",
    "import string\n",
    "from altair import Chart, X, Y, Color, Scale\n",
    "import altair as alt\n",
    "import nltk\n",
    "from nltk.corpus import stopwords\n",
    "import matplotlib.pyplot as plt\n",
    "#import wordcloud\n",
    "\n",
    "coal_consume_df = pd.read_csv(r\"C:\\Users\\skugl\\Desktop\\School\\CS304 Data Science\\Final Project\\Datasets\\Coal\\Coal Consumption.csv\")\n",
    "#Source for above data: https://www.eia.gov/totalenergy/data/browser/csv.php?tbl=T06.02\n",
    "print(coal_consume_df.head())\n",
    "coal_consume_df.columns"
   ]
  },
  {
   "cell_type": "markdown",
   "id": "e19dae6e-9075-4d1b-a2de-47c44dcc9255",
   "metadata": {},
   "source": [
    "Using the above data to put coal consumption into perspective.  Cleanup will be needed on the date data, as year and month are squeezed together.  We'll eliminate the month data and condensed the data by year.\n",
    "<br> Following assisted in clean up\n",
    "<br>https://stackoverflow.com/questions/42349572/remove-first-x-number-of-characters-from-each-row-in-a-column-of-a-python-datafr"
   ]
  },
  {
   "cell_type": "code",
   "execution_count": 96,
   "id": "cbce0af9-a41d-488d-a4c0-8fb013e40530",
   "metadata": {},
   "outputs": [
    {
     "name": "stdout",
     "output_type": "stream",
     "text": [
      "       MSN YYYYMM     Value  Column_Order  \\\n",
      "0  CLRCPUS   1949  52407.00             1   \n",
      "1  CLRCPUS   1950  51562.35             1   \n",
      "2  CLRCPUS   1951  47719.57             1   \n",
      "3  CLRCPUS   1952  44282.40             1   \n",
      "4  CLRCPUS   1953  39604.00             1   \n",
      "\n",
      "                               Description                 Unit  \n",
      "0  Coal Consumed by the Residential Sector  Thousand Short Tons  \n",
      "1  Coal Consumed by the Residential Sector  Thousand Short Tons  \n",
      "2  Coal Consumed by the Residential Sector  Thousand Short Tons  \n",
      "3  Coal Consumed by the Residential Sector  Thousand Short Tons  \n",
      "4  Coal Consumed by the Residential Sector  Thousand Short Tons  \n"
     ]
    },
    {
     "data": {
      "text/plain": [
       "(7363, 6)"
      ]
     },
     "execution_count": 96,
     "metadata": {},
     "output_type": "execute_result"
    }
   ],
   "source": [
    "coal_consume_df['YYYYMM'] = coal_consume_df['YYYYMM'].apply(str)\n",
    "coal_consume_df['YYYYMM'] = coal_consume_df['YYYYMM'].str[:4]\n",
    "print(coal_consume_df.head())\n",
    "coal_consume_df.shape"
   ]
  },
  {
   "cell_type": "code",
   "execution_count": 97,
   "id": "ad6035db-b345-45eb-a6e5-abd1bc260c57",
   "metadata": {},
   "outputs": [
    {
     "data": {
      "text/plain": [
       "array(['CLRCPUS', 'CLC3PUS', 'CLC4PUS', 'CLCCPUS', 'CLKCPUS', 'CLI3PUS',\n",
       "       'CLI4PUS', 'CLOCPUS', 'CLICPUS', 'CLACPUS', 'CLEIPUS', 'CLTCPUS'],\n",
       "      dtype=object)"
      ]
     },
     "execution_count": 97,
     "metadata": {},
     "output_type": "execute_result"
    }
   ],
   "source": [
    "#Noticing that there are different MSN values and each spans the same number of years\n",
    "coal_consume_df['MSN'].unique()"
   ]
  },
  {
   "cell_type": "markdown",
   "id": "6ef68974-e0f7-4ca5-8a15-47e69a951547",
   "metadata": {},
   "source": [
    "Removing the MSN, Column_Order anad Description columns as it is unnecessary data.  We are interested in seeing total consumption by year not on a granular level."
   ]
  },
  {
   "cell_type": "code",
   "execution_count": 98,
   "id": "d87b8b86-be6a-4538-9bf7-592e425a0be2",
   "metadata": {},
   "outputs": [
    {
     "data": {
      "text/html": [
       "<div>\n",
       "<style scoped>\n",
       "    .dataframe tbody tr th:only-of-type {\n",
       "        vertical-align: middle;\n",
       "    }\n",
       "\n",
       "    .dataframe tbody tr th {\n",
       "        vertical-align: top;\n",
       "    }\n",
       "\n",
       "    .dataframe thead th {\n",
       "        text-align: right;\n",
       "    }\n",
       "</style>\n",
       "<table border=\"1\" class=\"dataframe\">\n",
       "  <thead>\n",
       "    <tr style=\"text-align: right;\">\n",
       "      <th></th>\n",
       "      <th>Year</th>\n",
       "      <th>Value</th>\n",
       "      <th>Unit</th>\n",
       "    </tr>\n",
       "  </thead>\n",
       "  <tbody>\n",
       "    <tr>\n",
       "      <th>0</th>\n",
       "      <td>1949</td>\n",
       "      <td>52407.00</td>\n",
       "      <td>Thousand Short Tons</td>\n",
       "    </tr>\n",
       "    <tr>\n",
       "      <th>1</th>\n",
       "      <td>1950</td>\n",
       "      <td>51562.35</td>\n",
       "      <td>Thousand Short Tons</td>\n",
       "    </tr>\n",
       "    <tr>\n",
       "      <th>2</th>\n",
       "      <td>1951</td>\n",
       "      <td>47719.57</td>\n",
       "      <td>Thousand Short Tons</td>\n",
       "    </tr>\n",
       "    <tr>\n",
       "      <th>3</th>\n",
       "      <td>1952</td>\n",
       "      <td>44282.40</td>\n",
       "      <td>Thousand Short Tons</td>\n",
       "    </tr>\n",
       "    <tr>\n",
       "      <th>4</th>\n",
       "      <td>1953</td>\n",
       "      <td>39604.00</td>\n",
       "      <td>Thousand Short Tons</td>\n",
       "    </tr>\n",
       "  </tbody>\n",
       "</table>\n",
       "</div>"
      ],
      "text/plain": [
       "   Year     Value                 Unit\n",
       "0  1949  52407.00  Thousand Short Tons\n",
       "1  1950  51562.35  Thousand Short Tons\n",
       "2  1951  47719.57  Thousand Short Tons\n",
       "3  1952  44282.40  Thousand Short Tons\n",
       "4  1953  39604.00  Thousand Short Tons"
      ]
     },
     "execution_count": 98,
     "metadata": {},
     "output_type": "execute_result"
    }
   ],
   "source": [
    "coal_consume_df = coal_consume_df[['YYYYMM', 'Value', 'Unit']]\n",
    "#Rename YYYYMM column to something more meangingful\n",
    "coal_consume_df = coal_consume_df.rename({'YYYYMM': 'Year'}, axis=1)\n",
    "coal_consume_df.head()"
   ]
  },
  {
   "cell_type": "markdown",
   "id": "0ff7f81c-df32-4c34-84c7-25d22a059682",
   "metadata": {},
   "source": [
    "Total coal consumption by year\n",
    "<br>https://stackoverflow.com/questions/64640182/how-to-modify-numercial-values-in-a-column-of-mixed-data-types-in-a-pandas-dataf"
   ]
  },
  {
   "cell_type": "code",
   "execution_count": 99,
   "id": "866ccb98-3256-46f8-b0ee-070a328c242f",
   "metadata": {},
   "outputs": [
    {
     "data": {
      "text/html": [
       "<div>\n",
       "<style scoped>\n",
       "    .dataframe tbody tr th:only-of-type {\n",
       "        vertical-align: middle;\n",
       "    }\n",
       "\n",
       "    .dataframe tbody tr th {\n",
       "        vertical-align: top;\n",
       "    }\n",
       "\n",
       "    .dataframe thead th {\n",
       "        text-align: right;\n",
       "    }\n",
       "</style>\n",
       "<table border=\"1\" class=\"dataframe\">\n",
       "  <thead>\n",
       "    <tr style=\"text-align: right;\">\n",
       "      <th></th>\n",
       "      <th>Value</th>\n",
       "    </tr>\n",
       "    <tr>\n",
       "      <th>Year</th>\n",
       "      <th></th>\n",
       "    </tr>\n",
       "  </thead>\n",
       "  <tbody>\n",
       "    <tr>\n",
       "      <th>1949</th>\n",
       "      <td>1364388.840</td>\n",
       "    </tr>\n",
       "    <tr>\n",
       "      <th>1950</th>\n",
       "      <td>1396484.190</td>\n",
       "    </tr>\n",
       "    <tr>\n",
       "      <th>1951</th>\n",
       "      <td>1436694.442</td>\n",
       "    </tr>\n",
       "    <tr>\n",
       "      <th>1952</th>\n",
       "      <td>1288126.082</td>\n",
       "    </tr>\n",
       "    <tr>\n",
       "      <th>1953</th>\n",
       "      <td>1296289.408</td>\n",
       "    </tr>\n",
       "  </tbody>\n",
       "</table>\n",
       "</div>"
      ],
      "text/plain": [
       "            Value\n",
       "Year             \n",
       "1949  1364388.840\n",
       "1950  1396484.190\n",
       "1951  1436694.442\n",
       "1952  1288126.082\n",
       "1953  1296289.408"
      ]
     },
     "execution_count": 99,
     "metadata": {},
     "output_type": "execute_result"
    }
   ],
   "source": [
    "total_coal_comsumption_df = coal_consume_df.groupby('Year').sum()\n",
    "#Removing year 2022 as the data seem incomplete\n",
    "total_coal_comsumption_df.head()"
   ]
  },
  {
   "cell_type": "code",
   "execution_count": 100,
   "id": "ac41b345-89e0-4caf-952e-0a6b42c8f9f7",
   "metadata": {},
   "outputs": [
    {
     "data": {
      "text/html": [
       "\n",
       "<div id=\"altair-viz-3bf1cb35b4bd4c1fb1e9002a76125173\"></div>\n",
       "<script type=\"text/javascript\">\n",
       "  var VEGA_DEBUG = (typeof VEGA_DEBUG == \"undefined\") ? {} : VEGA_DEBUG;\n",
       "  (function(spec, embedOpt){\n",
       "    let outputDiv = document.currentScript.previousElementSibling;\n",
       "    if (outputDiv.id !== \"altair-viz-3bf1cb35b4bd4c1fb1e9002a76125173\") {\n",
       "      outputDiv = document.getElementById(\"altair-viz-3bf1cb35b4bd4c1fb1e9002a76125173\");\n",
       "    }\n",
       "    const paths = {\n",
       "      \"vega\": \"https://cdn.jsdelivr.net/npm//vega@5?noext\",\n",
       "      \"vega-lib\": \"https://cdn.jsdelivr.net/npm//vega-lib?noext\",\n",
       "      \"vega-lite\": \"https://cdn.jsdelivr.net/npm//vega-lite@4.17.0?noext\",\n",
       "      \"vega-embed\": \"https://cdn.jsdelivr.net/npm//vega-embed@6?noext\",\n",
       "    };\n",
       "\n",
       "    function maybeLoadScript(lib, version) {\n",
       "      var key = `${lib.replace(\"-\", \"\")}_version`;\n",
       "      return (VEGA_DEBUG[key] == version) ?\n",
       "        Promise.resolve(paths[lib]) :\n",
       "        new Promise(function(resolve, reject) {\n",
       "          var s = document.createElement('script');\n",
       "          document.getElementsByTagName(\"head\")[0].appendChild(s);\n",
       "          s.async = true;\n",
       "          s.onload = () => {\n",
       "            VEGA_DEBUG[key] = version;\n",
       "            return resolve(paths[lib]);\n",
       "          };\n",
       "          s.onerror = () => reject(`Error loading script: ${paths[lib]}`);\n",
       "          s.src = paths[lib];\n",
       "        });\n",
       "    }\n",
       "\n",
       "    function showError(err) {\n",
       "      outputDiv.innerHTML = `<div class=\"error\" style=\"color:red;\">${err}</div>`;\n",
       "      throw err;\n",
       "    }\n",
       "\n",
       "    function displayChart(vegaEmbed) {\n",
       "      vegaEmbed(outputDiv, spec, embedOpt)\n",
       "        .catch(err => showError(`Javascript Error: ${err.message}<br>This usually means there's a typo in your chart specification. See the javascript console for the full traceback.`));\n",
       "    }\n",
       "\n",
       "    if(typeof define === \"function\" && define.amd) {\n",
       "      requirejs.config({paths});\n",
       "      require([\"vega-embed\"], displayChart, err => showError(`Error loading script: ${err.message}`));\n",
       "    } else {\n",
       "      maybeLoadScript(\"vega\", \"5\")\n",
       "        .then(() => maybeLoadScript(\"vega-lite\", \"4.17.0\"))\n",
       "        .then(() => maybeLoadScript(\"vega-embed\", \"6\"))\n",
       "        .catch(showError)\n",
       "        .then(() => displayChart(vegaEmbed));\n",
       "    }\n",
       "  })({\"config\": {\"view\": {\"continuousWidth\": 400, \"continuousHeight\": 300}}, \"data\": {\"name\": \"data-11debd2fa63946d5f936d34d10dee43d\"}, \"mark\": \"line\", \"encoding\": {\"x\": {\"field\": \"Year\", \"type\": \"nominal\"}, \"y\": {\"field\": \"Value\", \"type\": \"quantitative\"}}, \"$schema\": \"https://vega.github.io/schema/vega-lite/v4.17.0.json\", \"datasets\": {\"data-11debd2fa63946d5f936d34d10dee43d\": [{\"Year\": \"1949\", \"Value\": 1364388.8399999999}, {\"Year\": \"1950\", \"Value\": 1396484.19}, {\"Year\": \"1951\", \"Value\": 1436694.442}, {\"Year\": \"1952\", \"Value\": 1288126.082}, {\"Year\": \"1953\", \"Value\": 1296289.408}, {\"Year\": \"1954\", \"Value\": 1095851.072}, {\"Year\": \"1955\", \"Value\": 1254811.55}, {\"Year\": \"1956\", \"Value\": 1278146.132}, {\"Year\": \"1957\", \"Value\": 1212417.014}, {\"Year\": \"1958\", \"Value\": 1069962.38}, {\"Year\": \"1959\", \"Value\": 1052240.962}, {\"Year\": \"1960\", \"Value\": 1086370.398}, {\"Year\": \"1961\", \"Value\": 1061991.846}, {\"Year\": \"1962\", \"Value\": 1088291.298}, {\"Year\": \"1963\", \"Value\": 1142135.668}, {\"Year\": \"1964\", \"Value\": 1198239.214}, {\"Year\": \"1965\", \"Value\": 1261376.918}, {\"Year\": \"1966\", \"Value\": 1320245.0559999999}, {\"Year\": \"1967\", \"Value\": 1288868.686}, {\"Year\": \"1968\", \"Value\": 1320445.658}, {\"Year\": \"1969\", \"Value\": 1320860.394}, {\"Year\": \"1970\", \"Value\": 1330344.576}, {\"Year\": \"1971\", \"Value\": 1245403.7480000001}, {\"Year\": \"1972\", \"Value\": 1288701.116}, {\"Year\": \"1973\", \"Value\": 2724695.832}, {\"Year\": \"1974\", \"Value\": 2689128.3200000003}, {\"Year\": \"1975\", \"Value\": 2685515.728}, {\"Year\": \"1976\", \"Value\": 2844376.616}, {\"Year\": \"1977\", \"Value\": 2915387.6119999997}, {\"Year\": \"1978\", \"Value\": 2910674.248}, {\"Year\": \"1979\", \"Value\": 3161121.792}, {\"Year\": \"1980\", \"Value\": 3195813.1}, {\"Year\": \"1981\", \"Value\": 3334287.592}, {\"Year\": \"1982\", \"Value\": 3179520.976}, {\"Year\": \"1983\", \"Value\": 3298863.8880000003}, {\"Year\": \"1984\", \"Value\": 3562995.778}, {\"Year\": \"1985\", \"Value\": 3667932.364}, {\"Year\": \"1986\", \"Value\": 3602914.037}, {\"Year\": \"1987\", \"Value\": 3733025.027}, {\"Year\": \"1988\", \"Value\": 3934475.096}, {\"Year\": \"1989\", \"Value\": 3975298.2989999996}, {\"Year\": \"1990\", \"Value\": 4011822.866}, {\"Year\": \"1991\", \"Value\": 3976228.721}, {\"Year\": \"1992\", \"Value\": 4001610.724}, {\"Year\": \"1993\", \"Value\": 4148741.688}, {\"Year\": \"1994\", \"Value\": 4179560.616}, {\"Year\": \"1995\", \"Value\": 4216762.293}, {\"Year\": \"1996\", \"Value\": 4386019.608}, {\"Year\": \"1997\", \"Value\": 4476146.966}, {\"Year\": \"1998\", \"Value\": 4483188.143}, {\"Year\": \"1999\", \"Value\": 4478341.141}, {\"Year\": \"2000\", \"Value\": 4662435.53}, {\"Year\": \"2001\", \"Value\": 4561582.885}, {\"Year\": \"2002\", \"Value\": 4563541.014}, {\"Year\": \"2003\", \"Value\": 4680354.152}, {\"Year\": \"2004\", \"Value\": 4734356.1850000005}, {\"Year\": \"2005\", \"Value\": 4800821.032}, {\"Year\": \"2006\", \"Value\": 4738841.737}, {\"Year\": \"2007\", \"Value\": 4790230.836999999}, {\"Year\": \"2008\", \"Value\": 4750916.204}, {\"Year\": \"2009\", \"Value\": 4208240.732}, {\"Year\": \"2010\", \"Value\": 4439554.422}, {\"Year\": \"2011\", \"Value\": 4245195.888}, {\"Year\": \"2012\", \"Value\": 3773682.908}, {\"Year\": \"2013\", \"Value\": 3916837.222}, {\"Year\": \"2014\", \"Value\": 3889077.3600000003}, {\"Year\": \"2015\", \"Value\": 3388717.48}, {\"Year\": \"2016\", \"Value\": 3099012.74}, {\"Year\": \"2017\", \"Value\": 3037675.644}, {\"Year\": \"2018\", \"Value\": 2917358.7800000003}, {\"Year\": \"2019\", \"Value\": 2500239.5719999997}, {\"Year\": \"2020\", \"Value\": 2039824.006}, {\"Year\": \"2021\", \"Value\": 2322974.218}]}}, {\"mode\": \"vega-lite\"});\n",
       "</script>"
      ],
      "text/plain": [
       "alt.Chart(...)"
      ]
     },
     "execution_count": 100,
     "metadata": {},
     "output_type": "execute_result"
    }
   ],
   "source": [
    "# if data is in index and needs to used by altair, it needs to be moved to a regular column using reset code below\n",
    "# https://altair-viz.github.io/user_guide/data.html\n",
    "total_coal_comsumption_df = total_coal_comsumption_df.reset_index()\n",
    "total_coal_comsumption_df = total_coal_comsumption_df[total_coal_comsumption_df['Year'] != '2022']\n",
    "alt.Chart(total_coal_comsumption_df[['Year', 'Value']]).mark_line().encode(\n",
    "    x='Year',y='Value')"
   ]
  },
  {
   "cell_type": "markdown",
   "id": "85329a5f-302f-439c-9ff0-1b95cc033979",
   "metadata": {},
   "source": [
    "As we can see from the above, coal consumption was on the rise in America from 1972 - 2008.  Yet we can see starting around 2008 that coal consumption has been on a steep decline.  America has invested in energy efficiency and althernative sources of energy, however, America's energy consumption increases yearly, therefore it must be finding ways to supplement this need."
   ]
  },
  {
   "cell_type": "code",
   "execution_count": 71,
   "id": "2807f803-24d8-4092-bcf1-12aa6e54e6fb",
   "metadata": {},
   "outputs": [
    {
     "name": "stdout",
     "output_type": "stream",
     "text": [
      "       MSN  YYYYMM    Value  Column_Order  \\\n",
      "0  DFRCPUS  194913  329.173             1   \n",
      "1  DFRCPUS  195013  389.934             1   \n",
      "2  DFRCPUS  195113  435.929             1   \n",
      "3  DFRCPUS  195213  451.582             1   \n",
      "4  DFRCPUS  195313  456.479             1   \n",
      "\n",
      "                                         Description                      Unit  \n",
      "0  Distillate Fuel Oil Consumed by the Residentia...  Thousand Barrels per Day  \n",
      "1  Distillate Fuel Oil Consumed by the Residentia...  Thousand Barrels per Day  \n",
      "2  Distillate Fuel Oil Consumed by the Residentia...  Thousand Barrels per Day  \n",
      "3  Distillate Fuel Oil Consumed by the Residentia...  Thousand Barrels per Day  \n",
      "4  Distillate Fuel Oil Consumed by the Residentia...  Thousand Barrels per Day  \n",
      "(23812, 6)\n"
     ]
    },
    {
     "data": {
      "text/plain": [
       "Index(['MSN', 'YYYYMM', 'Value', 'Column_Order', 'Description', 'Unit'], dtype='object')"
      ]
     },
     "execution_count": 71,
     "metadata": {},
     "output_type": "execute_result"
    }
   ],
   "source": [
    "oil_consume_df = pd.read_csv(r\"C:\\Users\\skugl\\Desktop\\School\\CS304 Data Science\\Final Project\\Datasets\\Oil\\Oil Consumption by Sector\\Total Oil Consumption.csv\")\n",
    "#Source for above data: https://www.eia.gov/totalenergy/data/monthly/\n",
    "#Scroll down to petroleum\n",
    "#Then the 3 csv's downloaded were 3.7a, 3.7b and 3.7c\n",
    "print(oil_consume_df.head())\n",
    "print(oil_consume_df.shape)\n",
    "oil_consume_df.columns"
   ]
  },
  {
   "cell_type": "markdown",
   "id": "3697644b-2b18-46e6-a0e2-4e1bb01cef63",
   "metadata": {},
   "source": [
    "Removing duplicates\n",
    "<br>Note to self, drop_duplicates has 'None' return type, therefore do not equal it to the df or you'll get an error"
   ]
  },
  {
   "cell_type": "code",
   "execution_count": 72,
   "id": "78ef98c6-afa6-43eb-9612-9fe30e4d8f47",
   "metadata": {},
   "outputs": [
    {
     "data": {
      "text/plain": [
       "(23812, 6)"
      ]
     },
     "execution_count": 72,
     "metadata": {},
     "output_type": "execute_result"
    }
   ],
   "source": [
    "oil_consume_df.drop_duplicates(keep='first', inplace=True)\n",
    "oil_consume_df.shape"
   ]
  },
  {
   "cell_type": "markdown",
   "id": "6a0d846c-4053-4880-ae3e-6cbfd61213dc",
   "metadata": {},
   "source": [
    "Cleaning up Date values to only be the year and value"
   ]
  },
  {
   "cell_type": "code",
   "execution_count": 73,
   "id": "950ca7f7-0997-4354-98a3-313eaac1c2f7",
   "metadata": {},
   "outputs": [
    {
     "name": "stdout",
     "output_type": "stream",
     "text": [
      "   Year    Value\n",
      "0  1949  329.173\n",
      "1  1950  389.934\n",
      "2  1951  435.929\n",
      "3  1952  451.582\n",
      "4  1953  456.479\n"
     ]
    },
    {
     "data": {
      "text/plain": [
       "(23812, 2)"
      ]
     },
     "execution_count": 73,
     "metadata": {},
     "output_type": "execute_result"
    }
   ],
   "source": [
    "oil_consume_df['YYYYMM'] = oil_consume_df['YYYYMM'].apply(str)\n",
    "oil_consume_df['YYYYMM'] = oil_consume_df['YYYYMM'].str[:4]\n",
    "# Reducing columns to only those needed\n",
    "oil_consume_df = oil_consume_df[['YYYYMM', 'Value']]\n",
    "#Rename YYYYMM column to something more meangingful\n",
    "oil_consume_df = oil_consume_df.rename({'YYYYMM': 'Year'}, axis=1)\n",
    "print(oil_consume_df.head())\n",
    "oil_consume_df.shape"
   ]
  },
  {
   "cell_type": "markdown",
   "id": "d537bd24-2922-4fbf-8a5d-0d71e599e4f9",
   "metadata": {},
   "source": [
    "Aggregating data by year"
   ]
  },
  {
   "cell_type": "code",
   "execution_count": 90,
   "id": "01de72b6-e736-489f-ae15-1ede82ebeb0b",
   "metadata": {},
   "outputs": [
    {
     "name": "stdout",
     "output_type": "stream",
     "text": [
      "    Year       Value\n",
      "0   1949   11563.900\n",
      "1   1950   12964.503\n",
      "2   1951   14115.694\n",
      "3   1952   14633.183\n",
      "4   1953   15300.275\n",
      "..   ...         ...\n",
      "69  2018  551474.826\n",
      "70  2019  550395.392\n",
      "71  2020  488550.374\n",
      "72  2021  533204.592\n",
      "73  2022  292015.141\n",
      "\n",
      "[74 rows x 2 columns]\n"
     ]
    }
   ],
   "source": [
    "import pandas as pd\n",
    "\n",
    "total_oil_comsumption_df = oil_consume_df.groupby('Year').sum()\n",
    "total_oil_comsumption_df = total_oil_comsumption_df.reset_index()\n",
    "print(total_oil_comsumption_df)\n",
    "#Removing year 2022 as the data seem incomplete\n",
    "total_oil_comsumption_df = total_oil_comsumption_df[total_oil_comsumption_df['Year'] != '2022']"
   ]
  },
  {
   "cell_type": "code",
   "execution_count": 91,
   "id": "93b48a60-4ecc-4768-a47c-fcea55f1264b",
   "metadata": {},
   "outputs": [
    {
     "data": {
      "text/html": [
       "\n",
       "<div id=\"altair-viz-3a8bc9d22729402987091d4c0f16a117\"></div>\n",
       "<script type=\"text/javascript\">\n",
       "  var VEGA_DEBUG = (typeof VEGA_DEBUG == \"undefined\") ? {} : VEGA_DEBUG;\n",
       "  (function(spec, embedOpt){\n",
       "    let outputDiv = document.currentScript.previousElementSibling;\n",
       "    if (outputDiv.id !== \"altair-viz-3a8bc9d22729402987091d4c0f16a117\") {\n",
       "      outputDiv = document.getElementById(\"altair-viz-3a8bc9d22729402987091d4c0f16a117\");\n",
       "    }\n",
       "    const paths = {\n",
       "      \"vega\": \"https://cdn.jsdelivr.net/npm//vega@5?noext\",\n",
       "      \"vega-lib\": \"https://cdn.jsdelivr.net/npm//vega-lib?noext\",\n",
       "      \"vega-lite\": \"https://cdn.jsdelivr.net/npm//vega-lite@4.17.0?noext\",\n",
       "      \"vega-embed\": \"https://cdn.jsdelivr.net/npm//vega-embed@6?noext\",\n",
       "    };\n",
       "\n",
       "    function maybeLoadScript(lib, version) {\n",
       "      var key = `${lib.replace(\"-\", \"\")}_version`;\n",
       "      return (VEGA_DEBUG[key] == version) ?\n",
       "        Promise.resolve(paths[lib]) :\n",
       "        new Promise(function(resolve, reject) {\n",
       "          var s = document.createElement('script');\n",
       "          document.getElementsByTagName(\"head\")[0].appendChild(s);\n",
       "          s.async = true;\n",
       "          s.onload = () => {\n",
       "            VEGA_DEBUG[key] = version;\n",
       "            return resolve(paths[lib]);\n",
       "          };\n",
       "          s.onerror = () => reject(`Error loading script: ${paths[lib]}`);\n",
       "          s.src = paths[lib];\n",
       "        });\n",
       "    }\n",
       "\n",
       "    function showError(err) {\n",
       "      outputDiv.innerHTML = `<div class=\"error\" style=\"color:red;\">${err}</div>`;\n",
       "      throw err;\n",
       "    }\n",
       "\n",
       "    function displayChart(vegaEmbed) {\n",
       "      vegaEmbed(outputDiv, spec, embedOpt)\n",
       "        .catch(err => showError(`Javascript Error: ${err.message}<br>This usually means there's a typo in your chart specification. See the javascript console for the full traceback.`));\n",
       "    }\n",
       "\n",
       "    if(typeof define === \"function\" && define.amd) {\n",
       "      requirejs.config({paths});\n",
       "      require([\"vega-embed\"], displayChart, err => showError(`Error loading script: ${err.message}`));\n",
       "    } else {\n",
       "      maybeLoadScript(\"vega\", \"5\")\n",
       "        .then(() => maybeLoadScript(\"vega-lite\", \"4.17.0\"))\n",
       "        .then(() => maybeLoadScript(\"vega-embed\", \"6\"))\n",
       "        .catch(showError)\n",
       "        .then(() => displayChart(vegaEmbed));\n",
       "    }\n",
       "  })({\"config\": {\"view\": {\"continuousWidth\": 400, \"continuousHeight\": 300}}, \"data\": {\"name\": \"data-7c3b301f67cf335ec8a4d6cd01dbfbe8\"}, \"mark\": \"line\", \"encoding\": {\"x\": {\"field\": \"Year\", \"type\": \"nominal\"}, \"y\": {\"field\": \"Value\", \"type\": \"quantitative\"}}, \"$schema\": \"https://vega.github.io/schema/vega-lite/v4.17.0.json\", \"datasets\": {\"data-7c3b301f67cf335ec8a4d6cd01dbfbe8\": [{\"Year\": \"1949\", \"Value\": 11563.9}, {\"Year\": \"1950\", \"Value\": 12964.503}, {\"Year\": \"1951\", \"Value\": 14115.694}, {\"Year\": \"1952\", \"Value\": 14633.183}, {\"Year\": \"1953\", \"Value\": 15300.275}, {\"Year\": \"1954\", \"Value\": 15628.652}, {\"Year\": \"1955\", \"Value\": 17072.150999999998}, {\"Year\": \"1956\", \"Value\": 17733.419}, {\"Year\": \"1957\", \"Value\": 17806.389}, {\"Year\": \"1958\", \"Value\": 18438.406}, {\"Year\": \"1959\", \"Value\": 19300.004}, {\"Year\": \"1960\", \"Value\": 19856.746}, {\"Year\": \"1961\", \"Value\": 20224.498}, {\"Year\": \"1962\", \"Value\": 21098.003}, {\"Year\": \"1963\", \"Value\": 21813.817}, {\"Year\": \"1964\", \"Value\": 22419.945}, {\"Year\": \"1965\", \"Value\": 23418.329}, {\"Year\": \"1966\", \"Value\": 24574.354}, {\"Year\": \"1967\", \"Value\": 25527.845}, {\"Year\": \"1968\", \"Value\": 27263.796}, {\"Year\": \"1969\", \"Value\": 28795.146}, {\"Year\": \"1970\", \"Value\": 29907.336}, {\"Year\": \"1971\", \"Value\": 30954.075}, {\"Year\": \"1972\", \"Value\": 33386.944}, {\"Year\": \"1973\", \"Value\": 458883.721}, {\"Year\": \"1974\", \"Value\": 441687.209}, {\"Year\": \"1975\", \"Value\": 432197.398}, {\"Year\": \"1976\", \"Value\": 462458.091}, {\"Year\": \"1977\", \"Value\": 488091.829}, {\"Year\": \"1978\", \"Value\": 498053.929}, {\"Year\": \"1979\", \"Value\": 496933.019}, {\"Year\": \"1980\", \"Value\": 456964.737}, {\"Year\": \"1981\", \"Value\": 431573.833}, {\"Year\": \"1982\", \"Value\": 413285.041}, {\"Year\": \"1983\", \"Value\": 408897.4}, {\"Year\": \"1984\", \"Value\": 422921.503}, {\"Year\": \"1985\", \"Value\": 423664.114}, {\"Year\": \"1986\", \"Value\": 436843.612}, {\"Year\": \"1987\", \"Value\": 448698.926}, {\"Year\": \"1988\", \"Value\": 464776.277}, {\"Year\": \"1989\", \"Value\": 466684.275}, {\"Year\": \"1990\", \"Value\": 456647.26}, {\"Year\": \"1991\", \"Value\": 450552.871}, {\"Year\": \"1992\", \"Value\": 460471.516}, {\"Year\": \"1993\", \"Value\": 464713.611}, {\"Year\": \"1994\", \"Value\": 479112.098}, {\"Year\": \"1995\", \"Value\": 479783.1}, {\"Year\": \"1996\", \"Value\": 494291.317}, {\"Year\": \"1997\", \"Value\": 503555.745}, {\"Year\": \"1998\", \"Value\": 510451.88}, {\"Year\": \"1999\", \"Value\": 527105.73}, {\"Year\": \"2000\", \"Value\": 530998.36}, {\"Year\": \"2001\", \"Value\": 527814.509}, {\"Year\": \"2002\", \"Value\": 533314.791}, {\"Year\": \"2003\", \"Value\": 539106.06}, {\"Year\": \"2004\", \"Value\": 559532.852}, {\"Year\": \"2005\", \"Value\": 560268.942}, {\"Year\": \"2006\", \"Value\": 558347.4}, {\"Year\": \"2007\", \"Value\": 558259.946}, {\"Year\": \"2008\", \"Value\": 523011.695}, {\"Year\": \"2009\", \"Value\": 504943.282}, {\"Year\": \"2010\", \"Value\": 516135.282}, {\"Year\": \"2011\", \"Value\": 509597.084}, {\"Year\": \"2012\", \"Value\": 501057.447}, {\"Year\": \"2013\", \"Value\": 514729.445}, {\"Year\": \"2014\", \"Value\": 514735.365}, {\"Year\": \"2015\", \"Value\": 526816.376}, {\"Year\": \"2016\", \"Value\": 530616.082}, {\"Year\": \"2017\", \"Value\": 536466.033}, {\"Year\": \"2018\", \"Value\": 551474.826}, {\"Year\": \"2019\", \"Value\": 550395.392}, {\"Year\": \"2020\", \"Value\": 488550.374}, {\"Year\": \"2021\", \"Value\": 533204.592}]}}, {\"mode\": \"vega-lite\"});\n",
       "</script>"
      ],
      "text/plain": [
       "alt.Chart(...)"
      ]
     },
     "execution_count": 91,
     "metadata": {},
     "output_type": "execute_result"
    }
   ],
   "source": [
    "alt.Chart(total_oil_comsumption_df[['Year', 'Value']]).mark_line().encode(\n",
    "    x='Year',y='Value')"
   ]
  },
  {
   "cell_type": "markdown",
   "id": "c1b571d0-c160-45cc-a043-f7b6fded6f8e",
   "metadata": {},
   "source": []
  },
  {
   "cell_type": "markdown",
   "id": "5473ff64-72cd-4c99-958e-4620360a6ddf",
   "metadata": {},
   "source": [
    "## Hydroelectric, Wind and Solar"
   ]
  },
  {
   "cell_type": "markdown",
   "id": "ac005d1b-f187-4fa7-90a6-4de8c97fc2d0",
   "metadata": {},
   "source": [
    "There are many sources of renewable energy, the top seven include:\n",
    "1. Solar\n",
    "2. Wind\n",
    "3. Hydroelectric\n",
    "4. Tidal\n",
    "5. Geothermal\n",
    "6. Nuclear\n",
    "7. Biomass\n",
    "\n",
    "With the intention of being able to dive more deeply into an analysis we will focus on Hydroelectric, Wind and Solar.  We will discuss some promising data regarding their viability as well as cross-analyze these energy sources in energy models already being implemented by some countries.  Particularly Iceland and Paraguay, who are already entirely or mostly dependent on renewable energy sources."
   ]
  },
  {
   "cell_type": "markdown",
   "id": "2309f8d6-ea27-4784-a914-419016c91c96",
   "metadata": {},
   "source": [
    "Datasets we will use for this analysis include energy output for solar and wind.  As hydro electricity is the biggest source of energy for both Iceland and Paraguay, we will focus on that for analyzing their energy output models."
   ]
  },
  {
   "cell_type": "markdown",
   "id": "31301b42-f67f-47ba-8309-75a182f054b3",
   "metadata": {},
   "source": [
    "Data Sources: https://www.worlddata.info/america/usa/energy-consumption.php\n",
    "<br>https://www.worlddata.info/america/paraguay/energy-consumption.php\n",
    "<br>https://www.worlddata.info/europe/iceland/energy-consumption.php\n",
    "\n",
    "Through preliminary analysis of countries, their renewable energy source usage and how much of their energy model is dependent on these sources, we were able to pinpoint Iceland and Paraguay as mostly using hydroelectric to sustain their energy needs.  Is this model viable for the U.S.?  According to the links above, Iceland's yearly electrical consumption is around 17.68 billion kWh, Paraguay's yearly consumption is around 10.90 billion kWh and the U.S.'s yearly consumption is around 3,902.00 billion kWh.  It may be viable for smaller countries, but it may not be viable for a country as large as the U.S.  Consider the following:\n",
    "\n",
    "*Paraguay*\n",
    "1. Landmass: 157,048 mi^2\n",
    "2. Population: 7.22 million (2021)\n",
    "\n",
    "*Iceland*\n",
    "1. Landmass: 39,769 mi^2\n",
    "2. Population: 372,295 (2021)\n",
    "\n",
    "*U.S.*\n",
    "1. Landmass: 3.797 million mi^2\n",
    "2. Population: 7.22 million (2021)\n",
    "\n",
    "As one can see, the U.S. is supporting a considerably greater landmass (the bigger the landmass the further the energy has to travel to reach consumers) and also supporting a greater consumer base.  Through analysis of datasets, we will determine if renewable sources of energy are able to meet the U.S.'s energy consumption needs."
   ]
  },
  {
   "cell_type": "markdown",
   "id": "39aad430-6c75-4a0b-b56a-984d0ff004f1",
   "metadata": {},
   "source": [
    "## Data Source Acknowledgement"
   ]
  },
  {
   "cell_type": "markdown",
   "id": "a880d105-8e30-4d85-a584-64eb9b3418da",
   "metadata": {},
   "source": [
    "Infographic indicating precentage of renewable energy used per country: https://data.oecd.org/energy/renewable-energy.htm#indicator-chart\n",
    "<br>Dataset regarding Hydropower, Solar and Wind: https://www.eia.gov/renewable/data.php\n",
    "<br>Datasets for oil energy emissions: https://www.epa.gov/ghgreporting/data-sets\n",
    "1. 2021 Data Summary Spreadsheet (zip)\n",
    "2. Emissions by Unit and Fuel Type (zip)\n",
    "\n",
    "<br>Coal Dataset: https://www.eia.gov/coal/data.php\n",
    "<br>Pollution, death rates, and cost by energy sources: https://www.kaggle.com/datasets/diegoandresm/pollution-and-death-rates-by-energy-sources\n",
    "<br>Solar Power Generation Data: https://www.kaggle.com/datasets/anikannal/solar-power-generation-data\n",
    "<br>World Energy Consumption: https://www.kaggle.com/datasets/pralabhpoudel/world-energy-consumption\n",
    "<br>Wind Power Generation Data: https://www.kaggle.com/datasets/jorgesandoval/wind-power-generation\n",
    "<br>Cost of Hydro Power in US: https://hydrosource.ornl.gov/dataset/ornl-hydropower-cost-database-extract-ferc-form-1"
   ]
  },
  {
   "cell_type": "markdown",
   "id": "0a444776-ae6e-492e-ae4e-4f421c470080",
   "metadata": {},
   "source": [
    "## Articles to Aid in Analysis"
   ]
  },
  {
   "cell_type": "markdown",
   "id": "f4c97a33-18fe-4880-9fc0-d57938bdd29b",
   "metadata": {},
   "source": [
    "Morimoto, S. (2021, November 8).  The case of Paraguay: Innovation and energy efficiency for sustainable development.  UNDP. https://www.undp.org/latin-america/blog/case-paraguay-innovation-and-energy-efficiency-sustainable-development#:~:text=Paraguay%20is%20one%20of%20the,non%2Dpolluting%20source%3A%20hydropower.\n",
    "<br>Michelson, J. (2022, June 28).  7 Renewable Energy Strategies We Can Learn From Iceland.  Forbes.  https://www.forbes.com/sites/joanmichelson2/2022/06/28/iceland-runs-on-85-renewable-energy-7-strategies-we-can-learn-from-them/?sh=51abd3cd313f"
   ]
  },
  {
   "cell_type": "code",
   "execution_count": null,
   "id": "566a2eb2-7774-49c1-bab0-6ec3e6229f84",
   "metadata": {},
   "outputs": [],
   "source": []
  }
 ],
 "metadata": {
  "kernelspec": {
   "display_name": "Python 3 (ipykernel)",
   "language": "python",
   "name": "python3"
  },
  "language_info": {
   "codemirror_mode": {
    "name": "ipython",
    "version": 3
   },
   "file_extension": ".py",
   "mimetype": "text/x-python",
   "name": "python",
   "nbconvert_exporter": "python",
   "pygments_lexer": "ipython3",
   "version": "3.9.13"
  }
 },
 "nbformat": 4,
 "nbformat_minor": 5
}
